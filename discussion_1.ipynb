{
  "nbformat": 4,
  "nbformat_minor": 0,
  "metadata": {
    "colab": {
      "name": "discussion 1.ipynb",
      "provenance": [],
      "collapsed_sections": [],
      "authorship_tag": "ABX9TyNiooCMArDEM6qnlrnFZ12V",
      "include_colab_link": true
    },
    "kernelspec": {
      "name": "python3",
      "display_name": "Python 3"
    }
  },
  "cells": [
    {
      "cell_type": "markdown",
      "metadata": {
        "id": "view-in-github",
        "colab_type": "text"
      },
      "source": [
        "<a href=\"https://colab.research.google.com/github/epark21/uncc-demo/blob/master/discussion_1.ipynb\" target=\"_parent\"><img src=\"https://colab.research.google.com/assets/colab-badge.svg\" alt=\"Open In Colab\"/></a>"
      ]
    },
    {
      "cell_type": "code",
      "metadata": {
        "id": "f9noSsPKQy38",
        "colab_type": "code",
        "colab": {}
      },
      "source": [
        "def hello(): return 1"
      ],
      "execution_count": 0,
      "outputs": []
    },
    {
      "cell_type": "code",
      "metadata": {
        "id": "nZCXZRnbYS6f",
        "colab_type": "code",
        "colab": {}
      },
      "source": [
        "https://user-images.githubusercontent.com/60055294/73123552-4331c680-3f5f-11ea-9260-83872ccf2fa6.png"
      ],
      "execution_count": 0,
      "outputs": []
    }
  ]
}